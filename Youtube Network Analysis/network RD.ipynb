{
 "cells": [
  {
   "cell_type": "code",
   "execution_count": 23,
   "metadata": {},
   "outputs": [],
   "source": [
    "import pandas as pd\n",
    "import numpy as np\n",
    "import matplotlib.pyplot as plt\n",
    "import io\n",
    "import os\n",
    "import csv"
   ]
  },
  {
   "cell_type": "code",
   "execution_count": 24,
   "metadata": {},
   "outputs": [],
   "source": [
    "def load_data(path):\n",
    "    with open(path,'r') as f:\n",
    "        reader = csv.reader(f)\n",
    "        txt = list(reader)\n",
    "    txt = [element[0].split('\\t') for element in txt]\n",
    "    return txt\n",
    "\n",
    "data_path = \"/Users/.../Desktop\""
   ]
  },
  {
   "cell_type": "code",
   "execution_count": 25,
   "metadata": {},
   "outputs": [],
   "source": [
    "txt1 = load_data(os.path.join(data_path, '0302/0.txt'))\n",
    "txt2 = load_data(os.path.join(data_path, '0302/1.txt'))\n",
    "txt3 = load_data(os.path.join(data_path, '0302/2.txt'))\n",
    "data =  txt1 + txt2 + txt3"
   ]
  },
  {
   "cell_type": "code",
   "execution_count": 26,
   "metadata": {},
   "outputs": [
    {
     "data": {
      "text/plain": [
       "['RX0GroQ0Y7Y',\n",
       " 'dabsrassistant',\n",
       " '743',\n",
       " 'Entertainment',\n",
       " '492',\n",
       " '24107',\n",
       " '3.44',\n",
       " '78',\n",
       " '69',\n",
       " 'u43_7a0bvZw']"
      ]
     },
     "execution_count": 26,
     "metadata": {},
     "output_type": "execute_result"
    }
   ],
   "source": [
    "data[30]"
   ]
  },
  {
   "cell_type": "code",
   "execution_count": 27,
   "metadata": {},
   "outputs": [],
   "source": [
    "title=[]\n",
    "uploader=[]\n",
    "views=[]\n",
    "rating=[]\n",
    "related =[]\n",
    "for item in data:\n",
    "    if len(item) >= 10:\n",
    "        title.append(item[0])\n",
    "        uploader.append(item[1])\n",
    "        views.append(int(item[5]))\n",
    "        rating.append(float(item[7]))\n",
    "        related.append(item[9:])\n",
    "        \n",
    "# calcualted the views*rating\n",
    "score = [a*b for a,b in zip(views,rating)]"
   ]
  },
  {
   "cell_type": "code",
   "execution_count": 28,
   "metadata": {},
   "outputs": [],
   "source": [
    "#for each video, find the uploader\n",
    "related_author=[]\n",
    "comp_rate=[]\n",
    "for sub in related:\n",
    "    author_list =[]\n",
    "    comp_rate_2=[]\n",
    "    for i in sub:\n",
    "        if i in title:\n",
    "            index_= title.index(i)\n",
    "            author = uploader[index_]\n",
    "            rate_view = score[index_]\n",
    "        else:\n",
    "            author ='Not able to provide channel id' # give 'none' to video not in the list\n",
    "            rate_view = 0\n",
    "        author_list.append(author)  #top_author is the list of authors of all recommended vides\n",
    "        comp_rate_2.append(rate_view)\n",
    "            \n",
    "    related_author.append(author_list)\n",
    "    comp_rate.append(comp_rate_2)      #find the hight rated videl (view * rate for each video)\n",
    "        "
   ]
  },
  {
   "cell_type": "code",
   "execution_count": 29,
   "metadata": {},
   "outputs": [],
   "source": [
    "#find top channel for each video \n",
    "from  collections import Counter\n",
    "\n",
    "top_author =[]\n",
    "for i in related_author:\n",
    "    a= Counter(i)\n",
    "#    b = sorted(a.items(), key=lambda x: x[1],reverse=True)\n",
    "    b = a.items()\n",
    "    c = [x[0] for x in b if (x[1]>=2 and x[0] != 'Not able to provide channel id ') ]  #keep the channel with freq > = 2 \n",
    "    top_author.append(c)\n"
   ]
  },
  {
   "cell_type": "code",
   "execution_count": 31,
   "metadata": {},
   "outputs": [],
   "source": [
    "\n",
    "# deal with top_author different coditions\n",
    "final_related=[]\n",
    "   \n",
    "for i in list(range(len(top_author))):\n",
    "    if len(top_author[i]) <1:\n",
    "        index_ = comp_rate[i].index(max(comp_rate[i]))\n",
    "        result = related_author[i][index_]  \n",
    "#        result = [\"No channel recommendation available\"]\n",
    "#     elif len(i) ==1 and i[0]== 'None':\n",
    "#         result = [\"No channel recommendation available\"]\n",
    "#     elif len(i) > 1 and 'None' in i:\n",
    "#         result = [x for x in i if x != 'None']\n",
    "    else:\n",
    "        result = top_author[i]\n",
    "    final_related.append(result)"
   ]
  },
  {
   "cell_type": "code",
   "execution_count": 32,
   "metadata": {},
   "outputs": [],
   "source": [
    "#build a dictionary\n",
    "channel_set={}\n",
    "for i in list(range(len(title))):\n",
    "    channel_set[title[i]]= final_related[i]"
   ]
  },
  {
   "cell_type": "code",
   "execution_count": 1,
   "metadata": {},
   "outputs": [],
   "source": [
    "#build a function\n",
    "def channel_recom(): \n",
    "    a = input('Please input the video ID ')\n",
    "    output = channel_set[a]\n",
    "    return (output)"
   ]
  },
  {
   "cell_type": "code",
   "execution_count": null,
   "metadata": {},
   "outputs": [],
   "source": [
    "channel_recom()\n",
    "# outpuot \"Not able to provide channel id\" if the uploader is not found"
   ]
  },
  {
   "cell_type": "code",
   "execution_count": null,
   "metadata": {},
   "outputs": [],
   "source": []
  }
 ],
 "metadata": {
  "kernelspec": {
   "display_name": "Python 3",
   "language": "python",
   "name": "python3"
  },
  "language_info": {
   "codemirror_mode": {
    "name": "ipython",
    "version": 3
   },
   "file_extension": ".py",
   "mimetype": "text/x-python",
   "name": "python",
   "nbconvert_exporter": "python",
   "pygments_lexer": "ipython3",
   "version": "3.7.3"
  }
 },
 "nbformat": 4,
 "nbformat_minor": 2
}
