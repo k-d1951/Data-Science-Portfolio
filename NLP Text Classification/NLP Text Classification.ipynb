{
 "cells": [
  {
   "cell_type": "markdown",
   "metadata": {},
   "source": [
    "# Text Classification using Newsgroup dataset"
   ]
  },
  {
   "cell_type": "code",
   "execution_count": 1,
   "metadata": {},
   "outputs": [],
   "source": [
    "#Imports\n",
    "from sklearn.pipeline import Pipeline\n",
    "from sklearn import metrics\n",
    "from sklearn.feature_extraction.text import CountVectorizer\n",
    "from sklearn.feature_extraction.text import TfidfTransformer\n",
    "from sklearn.datasets import fetch_20newsgroups"
   ]
  },
  {
   "cell_type": "markdown",
   "metadata": {},
   "source": [
    "### Splitting into Test and Training dataset"
   ]
  },
  {
   "cell_type": "code",
   "execution_count": 3,
   "metadata": {},
   "outputs": [],
   "source": [
    "newsgroups_train = fetch_20newsgroups(subset='train')\n",
    "newsgroups_test = fetch_20newsgroups(subset='test')\n",
    "X_train = newsgroups_train.data\n",
    "X_test = newsgroups_test.data\n",
    "y_train = newsgroups_train.target\n",
    "y_test = newsgroups_test.target"
   ]
  },
  {
   "cell_type": "markdown",
   "metadata": {},
   "source": [
    "### Text Cleaning and Pre-processing"
   ]
  },
  {
   "cell_type": "code",
   "execution_count": 19,
   "metadata": {},
   "outputs": [
    {
     "name": "stdout",
     "output_type": "stream",
     "text": [
      "['The', 'United', 'States', 'of', 'America', '(', 'USA', ')', 'or', 'America', ',', 'is', 'a', 'federal', 'republic', 'composed', 'of', '50', 'states']\n"
     ]
    }
   ],
   "source": [
    "#Tokenization: breaking down a stream of text into words/phrases/symbols/ tokens\n",
    "from nltk.tokenize import word_tokenize\n",
    "text = \"The United States of America (USA) or America, is a federal republic composed of 50 states\"\n",
    "tokens = word_tokenize(text)\n",
    "print(tokens)"
   ]
  },
  {
   "cell_type": "code",
   "execution_count": 20,
   "metadata": {},
   "outputs": [
    {
     "name": "stdout",
     "output_type": "stream",
     "text": [
      "['The', 'United', 'States', 'of', 'America', '(', 'USA', ')', 'or', 'America', ',', 'is', 'a', 'federal', 'republic', 'composed', 'of', '50', 'states']\n",
      "['The', 'United', 'States', 'America', '(', 'USA', ')', 'America', ',', 'federal', 'republic', 'composed', '50', 'states']\n"
     ]
    }
   ],
   "source": [
    "#Stop Words: removing abbrevations and unnecessary words\n",
    "\n",
    "from nltk.corpus import stopwords\n",
    "from nltk.tokenize import word_tokenize\n",
    "\n",
    "example_sent = \"The United States of America (USA) or America, is a federal republic composed of 50 states\"\n",
    "\n",
    "stop_words = set(stopwords.words('english'))\n",
    "\n",
    "word_tokens = word_tokenize(example_sent)\n",
    "\n",
    "filtered_sentence = [w for w in word_tokens if not w in stop_words]\n",
    "\n",
    "filtered_sentence = []\n",
    "\n",
    "for w in word_tokens:\n",
    "    if w not in stop_words:\n",
    "        filtered_sentence.append(w)\n",
    "\n",
    "print(word_tokens)\n",
    "print(filtered_sentence)"
   ]
  },
  {
   "cell_type": "code",
   "execution_count": 21,
   "metadata": {},
   "outputs": [
    {
     "name": "stdout",
     "output_type": "stream",
     "text": [
      "The United States of America (USA) or America, is a federal republic composed of 50 states\n",
      "the united states of america (usa) or america, is a federal republic composed of 50 states\n",
      "THE UNITED STATES OF AMERICA (USA) OR AMERICA, IS A FEDERAL REPUBLIC COMPOSED OF 50 STATES\n"
     ]
    }
   ],
   "source": [
    "#Cases handling\n",
    "text = \"The United States of America (USA) or America, is a federal republic composed of 50 states\"\n",
    "print(text)\n",
    "print(text.lower())\n",
    "print(text.upper())"
   ]
  },
  {
   "cell_type": "code",
   "execution_count": 28,
   "metadata": {},
   "outputs": [
    {
     "name": "stdout",
     "output_type": "stream",
     "text": [
      "run\n",
      "ran\n",
      "run\n",
      "runner\n"
     ]
    }
   ],
   "source": [
    "#Stemming: modifying a word to obtain its root\n",
    "from nltk.stem import PorterStemmer\n",
    "from nltk.tokenize import sent_tokenize, word_tokenize\n",
    "\n",
    "ps = PorterStemmer()\n",
    "\n",
    "example_words = [\"running\",\"ran\",\"run\",\"runner\"]\n",
    "\n",
    "for w in example_words:\n",
    "    print(ps.stem(w))"
   ]
  },
  {
   "cell_type": "code",
   "execution_count": 32,
   "metadata": {},
   "outputs": [
    {
     "name": "stdout",
     "output_type": "stream",
     "text": [
      "running\n",
      "ran\n",
      "run\n",
      "runner\n"
     ]
    }
   ],
   "source": [
    "#Lemmatization: is the process of eliminating redundant prefix or suffix of a word and extract the base word (lemma).\n",
    "\n",
    "from nltk.stem import WordNetLemmatizer\n",
    "\n",
    "lemmatizer = WordNetLemmatizer()\n",
    "example_words = [\"running\",\"ran\",\"runs\",\"runners\"]\n",
    "\n",
    "for w in example_words:\n",
    "    print(lemmatizer.lemmatize(w))\n",
    "#print(lemmatizer.lemmatize(\"cats\"))"
   ]
  },
  {
   "cell_type": "code",
   "execution_count": 35,
   "metadata": {},
   "outputs": [
    {
     "name": "stdout",
     "output_type": "stream",
     "text": [
      "['i', 'ca', 'do', 'this', 'now', 'because', 'i', 'so', 'tired', 'please', 'give', 'me', 'some', 'time', 'sd']\n"
     ]
    }
   ],
   "source": [
    "#Removing Special Characters\n",
    "import nltk\n",
    "\n",
    "s = \"I can't do this now, because I'm so tired.  Please give me some time. @ sd  4 232\"\n",
    "\n",
    "words = nltk.word_tokenize(s)\n",
    "\n",
    "words=[word.lower() for word in words if word.isalpha()]\n",
    "\n",
    "print(words)"
   ]
  },
  {
   "cell_type": "markdown",
   "metadata": {},
   "source": [
    "### KNeighbours Classifier"
   ]
  },
  {
   "cell_type": "code",
   "execution_count": 4,
   "metadata": {},
   "outputs": [
    {
     "name": "stdout",
     "output_type": "stream",
     "text": [
      "              precision    recall  f1-score   support\n",
      "\n",
      "           0       0.43      0.76      0.55       319\n",
      "           1       0.50      0.61      0.55       389\n",
      "           2       0.56      0.57      0.57       394\n",
      "           3       0.53      0.58      0.56       392\n",
      "           4       0.59      0.56      0.57       385\n",
      "           5       0.69      0.60      0.64       395\n",
      "           6       0.58      0.45      0.51       390\n",
      "           7       0.75      0.69      0.72       396\n",
      "           8       0.84      0.81      0.82       398\n",
      "           9       0.77      0.72      0.74       397\n",
      "          10       0.85      0.84      0.84       399\n",
      "          11       0.76      0.84      0.80       396\n",
      "          12       0.70      0.50      0.58       393\n",
      "          13       0.82      0.49      0.62       396\n",
      "          14       0.79      0.76      0.78       394\n",
      "          15       0.75      0.76      0.76       398\n",
      "          16       0.70      0.73      0.72       364\n",
      "          17       0.62      0.76      0.69       376\n",
      "          18       0.55      0.61      0.58       310\n",
      "          19       0.56      0.49      0.52       251\n",
      "\n",
      "    accuracy                           0.66      7532\n",
      "   macro avg       0.67      0.66      0.65      7532\n",
      "weighted avg       0.67      0.66      0.66      7532\n",
      "\n"
     ]
    }
   ],
   "source": [
    "from sklearn.neighbors import KNeighborsClassifier\n",
    "text_clf = Pipeline([('vect', CountVectorizer()),\n",
    "                     ('tfidf', TfidfTransformer()),\n",
    "                     ('clf', KNeighborsClassifier()),\n",
    "                     ])\n",
    "\n",
    "text_clf.fit(X_train, y_train)\n",
    "\n",
    "\n",
    "predicted = text_clf.predict(X_test)\n",
    "\n",
    "print(metrics.classification_report(y_test, predicted))"
   ]
  },
  {
   "cell_type": "markdown",
   "metadata": {},
   "source": [
    "### Decision Tree"
   ]
  },
  {
   "cell_type": "code",
   "execution_count": 6,
   "metadata": {},
   "outputs": [
    {
     "name": "stdout",
     "output_type": "stream",
     "text": [
      "              precision    recall  f1-score   support\n",
      "\n",
      "           0       0.48      0.48      0.48       319\n",
      "           1       0.43      0.43      0.43       389\n",
      "           2       0.52      0.58      0.55       394\n",
      "           3       0.49      0.43      0.46       392\n",
      "           4       0.56      0.57      0.57       385\n",
      "           5       0.48      0.47      0.48       395\n",
      "           6       0.66      0.71      0.68       390\n",
      "           7       0.60      0.60      0.60       396\n",
      "           8       0.73      0.74      0.73       398\n",
      "           9       0.51      0.54      0.53       397\n",
      "          10       0.65      0.65      0.65       399\n",
      "          11       0.75      0.70      0.72       396\n",
      "          12       0.34      0.33      0.34       393\n",
      "          13       0.53      0.45      0.49       396\n",
      "          14       0.63      0.64      0.64       394\n",
      "          15       0.72      0.70      0.71       398\n",
      "          16       0.50      0.61      0.55       364\n",
      "          17       0.74      0.60      0.66       376\n",
      "          18       0.39      0.39      0.39       310\n",
      "          19       0.30      0.33      0.32       251\n",
      "\n",
      "    accuracy                           0.55      7532\n",
      "   macro avg       0.55      0.55      0.55      7532\n",
      "weighted avg       0.56      0.55      0.55      7532\n",
      "\n"
     ]
    }
   ],
   "source": [
    "from sklearn import tree\n",
    "text_clf = Pipeline([('vect', CountVectorizer()),\n",
    "                     ('tfidf', TfidfTransformer()),\n",
    "                     ('clf', tree.DecisionTreeClassifier()),\n",
    "                     ])\n",
    "\n",
    "text_clf.fit(X_train, y_train)\n",
    "\n",
    "\n",
    "predicted = text_clf.predict(X_test)\n",
    "\n",
    "print(metrics.classification_report(y_test, predicted))"
   ]
  },
  {
   "cell_type": "markdown",
   "metadata": {},
   "source": [
    "### Random Forest Classifier"
   ]
  },
  {
   "cell_type": "code",
   "execution_count": 7,
   "metadata": {},
   "outputs": [
    {
     "name": "stdout",
     "output_type": "stream",
     "text": [
      "              precision    recall  f1-score   support\n",
      "\n",
      "           0       0.72      0.65      0.68       319\n",
      "           1       0.56      0.68      0.61       389\n",
      "           2       0.66      0.77      0.71       394\n",
      "           3       0.61      0.62      0.62       392\n",
      "           4       0.74      0.75      0.74       385\n",
      "           5       0.76      0.70      0.73       395\n",
      "           6       0.73      0.91      0.81       390\n",
      "           7       0.82      0.77      0.79       396\n",
      "           8       0.88      0.90      0.89       398\n",
      "           9       0.82      0.88      0.85       397\n",
      "          10       0.90      0.93      0.91       399\n",
      "          11       0.88      0.91      0.89       396\n",
      "          12       0.66      0.49      0.56       393\n",
      "          13       0.84      0.67      0.74       396\n",
      "          14       0.82      0.89      0.85       394\n",
      "          15       0.70      0.92      0.79       398\n",
      "          16       0.67      0.87      0.75       364\n",
      "          17       0.95      0.83      0.89       376\n",
      "          18       0.86      0.50      0.63       310\n",
      "          19       0.78      0.31      0.44       251\n",
      "\n",
      "    accuracy                           0.76      7532\n",
      "   macro avg       0.77      0.75      0.75      7532\n",
      "weighted avg       0.77      0.76      0.75      7532\n",
      "\n"
     ]
    }
   ],
   "source": [
    "from sklearn.ensemble import RandomForestClassifier\n",
    "text_clf = Pipeline([('vect', CountVectorizer()),\n",
    "                     ('tfidf', TfidfTransformer()),\n",
    "                     ('clf', RandomForestClassifier(n_estimators=100)),\n",
    "                     ])\n",
    "\n",
    "text_clf.fit(X_train, y_train)\n",
    "\n",
    "\n",
    "predicted = text_clf.predict(X_test)\n",
    "\n",
    "print(metrics.classification_report(y_test, predicted))"
   ]
  },
  {
   "cell_type": "markdown",
   "metadata": {},
   "source": [
    "### SVM"
   ]
  },
  {
   "cell_type": "code",
   "execution_count": 13,
   "metadata": {},
   "outputs": [
    {
     "name": "stdout",
     "output_type": "stream",
     "text": [
      "              precision    recall  f1-score   support\n",
      "\n",
      "           0       0.82      0.80      0.81       319\n",
      "           1       0.76      0.80      0.78       389\n",
      "           2       0.77      0.73      0.75       394\n",
      "           3       0.71      0.76      0.74       392\n",
      "           4       0.84      0.86      0.85       385\n",
      "           5       0.87      0.76      0.81       395\n",
      "           6       0.83      0.91      0.87       390\n",
      "           7       0.92      0.91      0.91       396\n",
      "           8       0.95      0.95      0.95       398\n",
      "           9       0.92      0.95      0.93       397\n",
      "          10       0.96      0.98      0.97       399\n",
      "          11       0.93      0.94      0.93       396\n",
      "          12       0.81      0.79      0.80       393\n",
      "          13       0.90      0.87      0.88       396\n",
      "          14       0.90      0.93      0.92       394\n",
      "          15       0.84      0.93      0.88       398\n",
      "          16       0.75      0.92      0.82       364\n",
      "          17       0.97      0.89      0.93       376\n",
      "          18       0.82      0.62      0.71       310\n",
      "          19       0.75      0.61      0.68       251\n",
      "\n",
      "    accuracy                           0.85      7532\n",
      "   macro avg       0.85      0.85      0.85      7532\n",
      "weighted avg       0.85      0.85      0.85      7532\n",
      "\n"
     ]
    }
   ],
   "source": [
    "from sklearn.svm import LinearSVC\n",
    "text_clf = Pipeline([('vect', CountVectorizer()),\n",
    "                     ('tfidf', TfidfTransformer()),\n",
    "                     ('clf', LinearSVC()),\n",
    "                     ])\n",
    "\n",
    "text_clf.fit(X_train, y_train)\n",
    "\n",
    "\n",
    "predicted = text_clf.predict(X_test)\n",
    "\n",
    "print(metrics.classification_report(y_test, predicted))"
   ]
  },
  {
   "cell_type": "markdown",
   "metadata": {},
   "source": [
    "SVM Gives the most accurate result"
   ]
  },
  {
   "cell_type": "code",
   "execution_count": null,
   "metadata": {},
   "outputs": [],
   "source": []
  }
 ],
 "metadata": {
  "kernelspec": {
   "display_name": "Python 3",
   "language": "python",
   "name": "python3"
  },
  "language_info": {
   "codemirror_mode": {
    "name": "ipython",
    "version": 3
   },
   "file_extension": ".py",
   "mimetype": "text/x-python",
   "name": "python",
   "nbconvert_exporter": "python",
   "pygments_lexer": "ipython3",
   "version": "3.6.8"
  }
 },
 "nbformat": 4,
 "nbformat_minor": 2
}
