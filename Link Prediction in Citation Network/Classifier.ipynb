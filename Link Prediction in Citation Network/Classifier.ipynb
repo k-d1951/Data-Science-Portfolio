{
 "cells": [
  {
   "cell_type": "code",
   "execution_count": null,
   "metadata": {
    "colab": {
     "autoexec": {
      "startup": false,
      "wait_interval": 0
     }
    },
    "colab_type": "code",
    "id": "MY6fIc6-af8x"
   },
   "outputs": [],
   "source": [
    "import pandas as pd\n",
    "import numpy as np\n",
    "import matplotlib.pyplot as plt\n",
    "import matplotlib.ticker as ticker\n",
    "%matplotlib inline\n",
    "import csv\n",
    "import seaborn as sns\n",
    "from sklearn_evaluation import plot\n",
    "from sklearn import preprocessing\n",
    "\n",
    "# classifier\n",
    "import sklearn\n",
    "from sklearn.svm import SVC, LinearSVC, NuSVC\n",
    "from sklearn.neural_network import MLPClassifier\n",
    "from sklearn.ensemble import RandomForestClassifier, AdaBoostClassifier, GradientBoostingClassifier, ExtraTreesClassifier, BaggingClassifier\n",
    "from sklearn.tree import DecisionTreeClassifier\n",
    "from sklearn.neighbors import KNeighborsClassifier\n",
    "from sklearn.linear_model import LogisticRegression\n",
    "from sklearn.naive_bayes import GaussianNB\n",
    "from sklearn.discriminant_analysis import LinearDiscriminantAnalysis\n",
    "from sklearn.discriminant_analysis import QuadraticDiscriminantAnalysis\n",
    "\n",
    "from sklearn.model_selection import StratifiedShuffleSplit\n",
    "from sklearn.metrics import accuracy_score, log_loss\n",
    "from sklearn.metrics import f1_score"
   ]
  },
  {
   "cell_type": "markdown",
   "metadata": {},
   "source": [
    "# Import data"
   ]
  },
  {
   "cell_type": "code",
   "execution_count": null,
   "metadata": {},
   "outputs": [],
   "source": [
    "with open(\"testing_set.txt\", \"r\") as f:\n",
    "    reader = csv.reader(f)\n",
    "    test = list(reader)\n",
    "test = [element[0].split(\" \") for element in test]"
   ]
  },
  {
   "cell_type": "code",
   "execution_count": null,
   "metadata": {},
   "outputs": [],
   "source": [
    "with open(\"training_set.txt\", \"r\") as f:\n",
    "    reader = csv.reader(f)\n",
    "    train = list(reader)\n",
    "train = [element[0].split(\" \") for element in train]\n",
    "label = [int(element[2]) for element in train]"
   ]
  },
  {
   "cell_type": "code",
   "execution_count": null,
   "metadata": {},
   "outputs": [],
   "source": [
    "train_features = np.loadtxt('train_features.txt', dtype=np.float64)\n",
    "test_features = np.loadtxt('test_features.txt', dtype=np.float64)"
   ]
  },
  {
   "cell_type": "code",
   "execution_count": null,
   "metadata": {},
   "outputs": [],
   "source": [
    "new_features_train = np.delete(train_features,[-1,-4],axis=1)\n",
    "new_features_test = np.delete(test_features,[-1,-4],axis=1)"
   ]
  },
  {
   "cell_type": "code",
   "execution_count": null,
   "metadata": {},
   "outputs": [],
   "source": [
    "train_features_scaled = preprocessing.scale(new_features_train) \n",
    "test_features_scaled = preprocessing.scale(new_features_test)"
   ]
  },
  {
   "cell_type": "code",
   "execution_count": null,
   "metadata": {},
   "outputs": [],
   "source": [
    "X_train, X_test, y_train, y_test = sklearn.model_selection.train_test_split(train_features_scaled, label, test_size=0.20, random_state=42)"
   ]
  },
  {
   "cell_type": "markdown",
   "metadata": {},
   "source": [
    "# Classifier"
   ]
  },
  {
   "cell_type": "markdown",
   "metadata": {},
   "source": [
    "### Feature Importance"
   ]
  },
  {
   "cell_type": "code",
   "execution_count": null,
   "metadata": {
    "colab": {
     "autoexec": {
      "startup": false,
      "wait_interval": 0
     }
    },
    "colab_type": "code",
    "id": "xgNX9zWWcavr",
    "scrolled": true
   },
   "outputs": [],
   "source": [
    "classifier = rfc(n_jobs=1, n_estimators=700, criterion=\"gini\", min_samples_split=10,\n",
    "                 min_samples_leaf=2, max_features=\"sqrt\", max_depth=10)\n",
    "classifier.fit(X_train, y_train)\n",
    "feature_importance = list(zip(X_train, classifier.feature_importances_))\n",
    "predictions_classifier = list(classifier.predict(X_test))\n",
    "predictions_classifier = zip(range(len(test)), predictions_classifier)"
   ]
  },
  {
   "cell_type": "code",
   "execution_count": null,
   "metadata": {},
   "outputs": [],
   "source": [
    "feature_names = ['Overlapping words in titles', 'Temporal distance between papers', 'Number of common authors',\n",
    "                 'Overlapping words in journal', 'Overlapping words in abstract', 'Cosine similarity of abstract',\n",
    "                 'Cosine similarity of author', 'Cosine similarity of journal', 'Cosine similarity of title',\n",
    "                 'Common neighbours', 'Preferential attachment', 'Jaccard similarity', 'Adamic Adar similarity',\n",
    "                 'Pagerank from source', 'Pagerank from target']"
   ]
  },
  {
   "cell_type": "code",
   "execution_count": null,
   "metadata": {},
   "outputs": [],
   "source": [
    "my_dpi = 96\n",
    "plt.style.use('ggplot')\n",
    "plt.rcParams[\"figure.figsize\"] = (11.69, 8.27)\n",
    "plot.feature_importances(classifier, feature_names=feature_names)\n",
    "# plt.xlabel('Feature Names')\n",
    "plt.ylabel('Feature Importance Score (%)')\n",
    "# plt.title('Features Importance')\n",
    "plt.gca().xaxis.set_minor_formatter(ticker.NullFormatter())\n",
    "plt.xticks(rotation=90)\n",
    "f = plt.gcf()\n",
    "f.subplots_adjust(bottom=0.4)\n",
    "plt.show()"
   ]
  },
  {
   "cell_type": "markdown",
   "metadata": {},
   "source": [
    "### Classifier Comparison"
   ]
  },
  {
   "cell_type": "code",
   "execution_count": null,
   "metadata": {},
   "outputs": [],
   "source": [
    "classifiers = [\n",
    "    KNeighborsClassifier(3),\n",
    "    DecisionTreeClassifier(),\n",
    "    RandomForestClassifier(),\n",
    "    AdaBoostClassifier(),\n",
    "    RandomForestClassifier(n_jobs=1, n_estimators=500, criterion=\"entropy\", max_features=\"log2\", max_depth=10),\n",
    "    ExtraTreesClassifier(),\n",
    "    BaggingClassifier(),\n",
    "    GradientBoostingClassifier(),\n",
    "    GaussianNB(),\n",
    "    LinearDiscriminantAnalysis(),\n",
    "    MLPClassifier()]"
   ]
  },
  {
   "cell_type": "code",
   "execution_count": null,
   "metadata": {},
   "outputs": [],
   "source": [
    "log_cols = [\"Classifier\", \"Accuracy\", \"Log Loss\"]\n",
    "log = pd.DataFrame(columns=log_cols)\n",
    "\n",
    "clf_number = 0\n",
    "for clf in classifiers:\n",
    "    clf_number = clf_number + 1\n",
    "    clf.fit(X_train, y_train)\n",
    "    name = clf.__class__.__name__\n",
    "\n",
    "    print(clf_number, \". \", name, 'result: ')   \n",
    "    train_pred = clf.predict(X_test)\n",
    "    acc = f1_score(y_test, train_pred)\n",
    "    print (\"Accuracy: {:.4%}\".format(acc))\n",
    "\n",
    "    train_pred = clf.predict_proba(X_test)\n",
    "    ll = log_loss(y_test, train_pred)\n",
    "    print (\"Log Loss: {}\".format(ll))\n",
    "\n",
    "    log_entry = pd.DataFrame([[name, acc * 100, ll]], columns=log_cols)\n",
    "    log = log.append(log_entry)"
   ]
  },
  {
   "cell_type": "code",
   "execution_count": null,
   "metadata": {},
   "outputs": [],
   "source": [
    "sns.set_color_codes(\"muted\")\n",
    "sns.barplot(x='Accuracy', y='Classifier', data=log, color=\"g\")\n",
    "\n",
    "plt.xlabel('Accuracy %')\n",
    "plt.title('Classifier Accuracy')\n",
    "plt.savefig(\"clf-accuracy.pdf\")\n",
    "plt.show()"
   ]
  },
  {
   "cell_type": "code",
   "execution_count": null,
   "metadata": {
    "scrolled": true
   },
   "outputs": [],
   "source": [
    "sns.set_color_codes(\"muted\")\n",
    "sns.barplot(x='Log Loss', y='Classifier', data=log, color=\"g\")\n",
    "\n",
    "plt.xlabel('Log Loss')\n",
    "plt.title('Classifier Log Loss')\n",
    "plt.savefig(\"clf-loss.pdf\")\n",
    "plt.show()"
   ]
  },
  {
   "cell_type": "markdown",
   "metadata": {},
   "source": [
    "### Final Submition"
   ]
  },
  {
   "cell_type": "code",
   "execution_count": null,
   "metadata": {},
   "outputs": [],
   "source": [
    "# MLPClassifier\n",
    "model = MLPClassifier()\n",
    "model.fit(train_features_scaled, label)\n",
    "pred_test = model.predict(test_features_scaled)"
   ]
  },
  {
   "cell_type": "code",
   "execution_count": null,
   "metadata": {},
   "outputs": [],
   "source": [
    "pred = [int(i) for i in pred_test]"
   ]
  },
  {
   "cell_type": "code",
   "execution_count": null,
   "metadata": {},
   "outputs": [],
   "source": [
    "submission = pd.DataFrame(pred)\n",
    "submission.to_csv(\n",
    "    path_or_buf=\"MLP.csv\",\n",
    "    index=True,\n",
    "    index_label=\"id\",\n",
    "    header=[\"category\"]\n",
    ")"
   ]
  },
  {
   "cell_type": "code",
   "execution_count": null,
   "metadata": {},
   "outputs": [],
   "source": [
    "train_shortest_paths = pd.read_csv('Features/train_shortest_paths.csv')\n",
    "test_shortest_paths = pd.read_csv('Features/test_shortest_paths.csv')"
   ]
  },
  {
   "cell_type": "code",
   "execution_count": null,
   "metadata": {},
   "outputs": [],
   "source": []
  }
 ],
 "metadata": {
  "colab": {
   "default_view": {},
   "name": " NGSA_Kaggle.ipynb",
   "provenance": [],
   "version": "0.3.2",
   "views": {}
  },
  "kernelspec": {
   "display_name": "Python 3",
   "language": "python",
   "name": "python3"
  },
  "language_info": {
   "codemirror_mode": {
    "name": "ipython",
    "version": 3
   },
   "file_extension": ".py",
   "mimetype": "text/x-python",
   "name": "python",
   "nbconvert_exporter": "python",
   "pygments_lexer": "ipython3",
   "version": "3.6.8"
  }
 },
 "nbformat": 4,
 "nbformat_minor": 1
}
